{
  "cells": [
    {
      "cell_type": "markdown",
      "metadata": {
        "id": "IiQOqkh_ei9E"
      },
      "source": [
        "# Using Python for Research Homework: Week 3, Case Study 1\n",
        "\n",
        "A cipher is a secret code for a language.  In this case study, we will explore a cipher that is reported by contemporary Greek historians to have been used by Julius Caesar to send secret messages to generals during times of war."
      ]
    },
    {
      "cell_type": "markdown",
      "metadata": {
        "id": "b5-Q7GGhei9I"
      },
      "source": [
        "### Exercise 1\n",
        "\n",
        "A cipher is a secret code for a language. In this case study, we will explore a cipher that is reported by contemporary Greek historians to have been used by Julius Caesar to send secret messages to generals during times of war.\n",
        "\n",
        "The Caesar cipher shifts each letter of a message to another letter in the alphabet located a fixed distance from the original letter. If our encryption key were `1`, we would shift `h` to the next letter `i`, `i` to the next letter `j`, and so on. If we reach the end of the alphabet, which for us is the space character, we simply loop back to `a`. To decode the message, we make a similar shift, except we move the same number of steps backwards in the alphabet.\n",
        "\n",
        "Over the next five exercises, we will create our own Caesar cipher, as well as a message decoder for this cipher. In this exercise, we will define the alphabet used in the cipher.\n",
        "\n",
        "#### Instructions\n",
        "- The `string` library has been imported. Create a string called `alphabet` consisting of the space character `' '` followed by (concatenated with) the lowercase letters. Note that we're only using the lowercase letters in this exercise."
      ]
    },
    {
      "cell_type": "code",
      "execution_count": 9,
      "metadata": {
        "colab": {
          "base_uri": "https://localhost:8080/"
        },
        "id": "HhfJXo-Uei9K",
        "outputId": "ff2ece19-d456-4b56-b7fe-3d82d0ba687e"
      },
      "outputs": [
        {
          "output_type": "stream",
          "name": "stdout",
          "text": [
            " abcdefghijklmnopqrstuvwxyz\n"
          ]
        }
      ],
      "source": [
        "import string\n",
        "# write your code here!\n",
        "alphabet=\" \"+string.ascii_lowercase\n",
        "print(alphabet)"
      ]
    },
    {
      "cell_type": "markdown",
      "metadata": {
        "id": "-TrStIzeei9L"
      },
      "source": [
        "### Exercise 2 \n",
        "\n",
        "In this exercise, we will define a dictionary that specifies the index of each character in `alphabet`.\n",
        "\n",
        "#### Instructions \n",
        "- `alphabet` has already defined in the last exercise. Create a dictionary with keys consisting of the characters in alphabet and values consisting of the numbers from 0 to 26.\n",
        "- Store this as `positions`."
      ]
    },
    {
      "cell_type": "code",
      "execution_count": 24,
      "metadata": {
        "colab": {
          "base_uri": "https://localhost:8080/"
        },
        "id": "Mh9TAFBYei9M",
        "outputId": "418550f9-f95a-4662-ad01-5fc6b9e4f269"
      },
      "outputs": [
        {
          "output_type": "stream",
          "name": "stdout",
          "text": [
            "{' ': 0, 'a': 1, 'b': 2, 'c': 3, 'd': 4, 'e': 5, 'f': 6, 'g': 7, 'h': 8, 'i': 9, 'j': 10, 'k': 11, 'l': 12, 'm': 13, 'n': 14, 'o': 15, 'p': 16, 'q': 17, 'r': 18, 's': 19, 't': 20, 'u': 21, 'v': 22, 'w': 23, 'x': 24, 'y': 25, 'z': 26}\n",
            "8\n"
          ]
        }
      ],
      "source": [
        "# write your code here!\n",
        "positions={}\n",
        "for i in range(27):\n",
        "  positions[alphabet[i]]=i \n",
        "print(positions)\n",
        "print(positions[\"h\"])"
      ]
    },
    {
      "cell_type": "code",
      "source": [
        "listalph= dict(enumerate(alphabet))\n",
        "print(listalph)"
      ],
      "metadata": {
        "colab": {
          "base_uri": "https://localhost:8080/"
        },
        "id": "VfPgT9ctvAUA",
        "outputId": "94c3f722-acc3-416c-fcd9-e84d8bc23c2c"
      },
      "execution_count": 27,
      "outputs": [
        {
          "output_type": "stream",
          "name": "stdout",
          "text": [
            "{0: ' ', 1: 'a', 2: 'b', 3: 'c', 4: 'd', 5: 'e', 6: 'f', 7: 'g', 8: 'h', 9: 'i', 10: 'j', 11: 'k', 12: 'l', 13: 'm', 14: 'n', 15: 'o', 16: 'p', 17: 'q', 18: 'r', 19: 's', 20: 't', 21: 'u', 22: 'v', 23: 'w', 24: 'x', 25: 'y', 26: 'z'}\n"
          ]
        }
      ]
    },
    {
      "cell_type": "markdown",
      "metadata": {
        "id": "C0KJ4Ybdei9M"
      },
      "source": [
        "### Exercise 3\n",
        "\n",
        "In this exercise, we will encode a message with a Caesar cipher.\n",
        "\n",
        "#### Instructions \n",
        "\n",
        "- `alphabet` and `positions` have already been defined in previous exercises. Use `positions` to create an encoded message based on message where each character in message has been shifted forward by 1 position, as defined by positions.\n",
        "- **Note that you can ensure the result remains within 0-26 using result % 27**\n",
        "- Store this as `encoded_message`."
      ]
    },
    {
      "cell_type": "code",
      "execution_count": 29,
      "metadata": {
        "colab": {
          "base_uri": "https://localhost:8080/"
        },
        "id": "C8bpxybxei9N",
        "outputId": "16f8de6a-44b4-46eb-8464-d8835d38b75c"
      },
      "outputs": [
        {
          "output_type": "stream",
          "name": "stdout",
          "text": [
            "ijanzaobnfajtadbftbs\n"
          ]
        }
      ],
      "source": [
        "message = \"hi my name is caesar\"\n",
        "# write your code here!\n",
        "def create_encoded(message):\n",
        "  encoded_message=\"\"\n",
        "  for i in range(len(message)):\n",
        "    pos= int(positions[message[i]])+1\n",
        "    encoded_message+=listalph[pos]\n",
        "  return encoded_message\n",
        "\n",
        "print(create_encoded(message))"
      ]
    },
    {
      "cell_type": "markdown",
      "metadata": {
        "id": "B_0757bMei9N"
      },
      "source": [
        "### Exercise 4\n",
        "\n",
        "In this exercise, we will define a function that encodes a message with any given encryption key.\n",
        "\n",
        "#### Instructions \n",
        "- `alphabet`, `position` and `message` remain defined from previous exercises. Define a function `encoding` that takes a message as input as well as an int encryption key `key` to encode a message with the Caesar cipher by shifting each letter in message by key positions.\n",
        "- Your function should return a string consisting of these encoded letters.\n",
        "- Use `encoding` to encode message using `key = 3` and save the result as `encoded_message`.\n",
        "Print `encoded_message`."
      ]
    },
    {
      "cell_type": "code",
      "execution_count": 32,
      "metadata": {
        "id": "g7bWrPbCei9N"
      },
      "outputs": [],
      "source": [
        "# write your code here \n",
        "def encoding(message,enkey):\n",
        "  encoded_message=\"\"\n",
        "  for i in range(len(message)):\n",
        "    pos= int(positions[message[i]])+enkey\n",
        "    if (pos>26):\n",
        "      pos=pos%27\n",
        "    encoded_message+=listalph[pos]\n",
        "  return encoded_message"
      ]
    },
    {
      "cell_type": "code",
      "source": [
        "print(encoding(message,3))"
      ],
      "metadata": {
        "colab": {
          "base_uri": "https://localhost:8080/"
        },
        "id": "QeL5eqSZv4xy",
        "outputId": "de889935-f522-43a9-b550-1a4051ffb8da"
      },
      "execution_count": 33,
      "outputs": [
        {
          "output_type": "stream",
          "name": "stdout",
          "text": [
            "klcpacqdphclvcfdhvdu\n"
          ]
        }
      ]
    },
    {
      "cell_type": "markdown",
      "metadata": {
        "id": "dAppfwx8ei9O"
      },
      "source": [
        "### Exercise 5\n",
        "\n",
        "In this exercise, we will decode an encoded message.\n",
        "\n",
        "#### Instructions \n",
        "- Use `encoding` to decode `encoded_message`.\n",
        "- Store your encoded message as `decoded_message`.\n",
        "- Print `decoded_message`. Does this recover your original message?"
      ]
    },
    {
      "cell_type": "code",
      "execution_count": 34,
      "metadata": {
        "id": "b1FJUTMxei9O"
      },
      "outputs": [],
      "source": [
        "# write your code here!\n",
        "def decoding(encoded_message,enkey):\n",
        "  decoded_message=\"\"\n",
        "  for i in range(len(encoded_message)):\n",
        "    pos= int(positions[encoded_message[i]])-enkey\n",
        "    if (pos<0):\n",
        "      pos=pos%27\n",
        "    decoded_message+=listalph[pos]\n",
        "  return decoded_message"
      ]
    },
    {
      "cell_type": "code",
      "source": [
        "print(decoding(\"klcpacqdphclvcfdhvdu\",3))"
      ],
      "metadata": {
        "colab": {
          "base_uri": "https://localhost:8080/"
        },
        "id": "LFbyuVjIwsvv",
        "outputId": "dab63720-37df-444d-c789-06c78ab226dc"
      },
      "execution_count": 38,
      "outputs": [
        {
          "output_type": "stream",
          "name": "stdout",
          "text": [
            "hi my name is caesar\n"
          ]
        }
      ]
    },
    {
      "cell_type": "code",
      "source": [
        "def decoding2(encoded_message,enkey):\n",
        "  decoded_message=\"\"\n",
        "  for i in range(len(encoded_message)):\n",
        "    pos= int(positions[encoded_message[i]])+((-1)*enkey)\n",
        "    if (pos<0):\n",
        "      pos=pos%27\n",
        "    decoded_message+=listalph[pos]\n",
        "  return decoded_message"
      ],
      "metadata": {
        "id": "vsPRF_Y7xWdu"
      },
      "execution_count": 41,
      "outputs": []
    },
    {
      "cell_type": "code",
      "source": [
        "print(decoding2(\"klcpacqdphclvcfdhvdu\",3))"
      ],
      "metadata": {
        "colab": {
          "base_uri": "https://localhost:8080/"
        },
        "id": "Am-SyWcGxlOp",
        "outputId": "35efed90-049d-4615-fc5f-88fdc0bad9db"
      },
      "execution_count": 42,
      "outputs": [
        {
          "output_type": "stream",
          "name": "stdout",
          "text": [
            "hi my name is caesar\n"
          ]
        }
      ]
    }
  ],
  "metadata": {
    "kernelspec": {
      "display_name": "Python 3",
      "language": "python",
      "name": "python3"
    },
    "language_info": {
      "codemirror_mode": {
        "name": "ipython",
        "version": 3
      },
      "file_extension": ".py",
      "mimetype": "text/x-python",
      "name": "python",
      "nbconvert_exporter": "python",
      "pygments_lexer": "ipython3",
      "version": "3.7.3"
    },
    "colab": {
      "name": "HW3-1.ipynb",
      "provenance": []
    }
  },
  "nbformat": 4,
  "nbformat_minor": 0
}